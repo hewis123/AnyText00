{
  "nbformat": 4,
  "nbformat_minor": 0,
  "metadata": {
    "colab": {
      "provenance": []
    },
    "kernelspec": {
      "name": "python3",
      "display_name": "Python 3"
    },
    "language_info": {
      "name": "python"
    }
  },
  "cells": [
    {
      "cell_type": "code",
      "execution_count": null,
      "metadata": {
        "id": "DQPzbP-zoYgN"
      },
      "outputs": [],
      "source": [
        "# 技术交流及问题联系我：\n",
        "# 公众号：AIProall\n",
        "# 微信：ai285016567\n",
        "\n",
        "\n",
        "%cd /content\n",
        "!git clone -b dev https://github.com/camenduru/studio_anytext-ms\n",
        "%cd /content/studio_anytext-ms\n",
        "\n",
        "!pip install -q modelscope omegaconf pytorch-lightning sentencepiece gradio==3.50.2 open-clip-torch sacremoses subword_nmt\n",
        "!pip install -q https://download.pytorch.org/whl/cu121/xformers-0.0.22.post7-cp310-cp310-manylinux2014_x86_64.whl\n",
        "\n",
        "!python app.py"
      ]
    }
  ]
}